{
  "nbformat": 4,
  "nbformat_minor": 0,
  "metadata": {
    "colab": {
      "provenance": []
    },
    "kernelspec": {
      "name": "python3",
      "display_name": "Python 3"
    },
    "language_info": {
      "name": "python"
    }
  },
  "cells": [
    {
      "cell_type": "markdown",
      "source": [
        "# Simulación de eventos discretos del sistema de inventario en Python\n",
        "\n",
        "Datos:\n",
        "\n",
        "• Vender productos por r = 100 (solo se pueden vender los que están en stock)\n",
        "\n",
        "• Período entre llegadas del cliente distribución exponencial (λ= 5)\n",
        "\n",
        "• Cada cliente demanda productos D~uniforme(1,4)\n",
        "\n",
        "• Política de pedidos (s,S): si el inventario es x < s , ordene y = S-x\n",
        "\n",
        "• Costos c(y)=50y para ordenar y unidades\n",
        "\n",
        "• Retraso de L = 2 días hasta la entrega\n",
        "\n",
        "• Costo de mantenimiento de k = 2 por artículo por día\n",
        "\n",
        "\n",
        "\n",
        "El código  es un ejemplo de una simulación de un sistema de inventario de almacén utilizando la biblioteca SimPy. Modela la gestión de inventario y el proceso de pedido en función de ciertos parámetros como el límite de pedido y el objetivo de pedido.\n",
        "1. Importar bibliotecas necesarias: El código comienza importando las bibliotecas necesarias, a saber, SimPy y NumPy.\n",
        "\n"
      ],
      "metadata": {
        "id": "TLpj9ExpAuUR"
      }
    },
    {
      "cell_type": "code",
      "source": [
        "#https://pypi.org/simple\n",
        "!pip install simpy\n",
        "import simpy"
      ],
      "metadata": {
        "colab": {
          "base_uri": "https://localhost:8080/"
        },
        "id": "A9fpzHlwphE2",
        "outputId": "256eeea0-88fa-4f7e-83d3-95b0c7fcb5e8"
      },
      "execution_count": 7,
      "outputs": [
        {
          "output_type": "stream",
          "name": "stdout",
          "text": [
            "Looking in indexes: https://pypi.org/simple, https://us-python.pkg.dev/colab-wheels/public/simple/\n",
            "Requirement already satisfied: simpy in /usr/local/lib/python3.10/dist-packages (4.0.1)\n"
          ]
        }
      ]
    },
    {
      "cell_type": "code",
      "source": [
        "import simpy\n",
        "\n",
        "import numpy as np"
      ],
      "metadata": {
        "id": "FpQu2BMSqy0X"
      },
      "execution_count": 13,
      "outputs": []
    },
    {
      "cell_type": "markdown",
      "source": [
        "2.Definir funciones:\n",
        "\n",
        "a. warehouse_run: Esta función representa el proceso principal de la simulación del almacén. Se ejecuta indefinidamente utilizando un bucle while. Genera un tiempo entre llegadas, espera esa duración y luego simula la demanda de inventario. Si la demanda es menor que el inventario actual, se actualiza el inventario en consecuencia. De lo contrario, el inventario se agota y el sistema se queda sin stock. Si el inventario cae por debajo del nivel de corte del pedido y no se realiza ningún pedido en ese momento, se inicia el proceso handle_order para realizar un pedido."
      ],
      "metadata": {
        "id": "kgzkCgnItImr"
      }
    },
    {
      "cell_type": "code",
      "source": [
        "def warehouse_run(env, order_cutoff, order_target):\n",
        "  global inventory, balance, num_ordered\n",
        "\n",
        "  inventory= order_target\n",
        "  balance= 0.0\n",
        "  num_ordered=0\n",
        "\n",
        "  while True:\n",
        "    interarrival = generate_interarrival()\n",
        "    yield env.timeout(interarrival)\n",
        "    balance -= inventory*2*interarrival\n",
        "    demand= generate_demand()\n",
        "    if demand < inventory:\n",
        "      balance= 100*demand\n",
        "      inventory -= demand\n",
        "      print ('{:.2f} sold {}'.format(env.now, inventory))\n",
        "    else:\n",
        "      balance+= 100*inventory\n",
        "      inventory = 0\n",
        "      print ('{:.2f} sold {} (out of stock)'.format(env.now, inventory))\n",
        "\n",
        "    if inventory < order_cutoff and  num_ordered == 0:\n",
        "       env.process(handle_order(env,order_target))"
      ],
      "metadata": {
        "id": "o4jjViSSH01A"
      },
      "execution_count": 14,
      "outputs": []
    },
    {
      "cell_type": "markdown",
      "source": [
        "b. `handle_order`: Esta función representa el proceso de manejo de un pedido. Calcula la cantidad a pedir, deduce el costo del saldo, espera 2.0 unidades de tiempo (que representa el tiempo de procesamiento del pedido) y actualiza el inventario al recibir la cantidad pedida.\n"
      ],
      "metadata": {
        "id": "asreGRElCA_6"
      }
    },
    {
      "cell_type": "code",
      "source": [
        "def handle_order (env, order_target):\n",
        "  global inventory, balance, num_ordered\n",
        "\n",
        "  num_ordered = order_target - inventory\n",
        "  print ('{:.2f} placed order for {}'.format(env.now, num_ordered))\n",
        "  balance -= 50*num_ordered\n",
        "  yield env.timeout(2.0)\n",
        "  inventory += num_ordered\n",
        "  num_ordered=0\n",
        "  print ('{:.2f} received order, {} in inventory'.format(env.now, inventory))\n"
      ],
      "metadata": {
        "id": "xCUQAPWxBwgc"
      },
      "execution_count": 15,
      "outputs": []
    },
    {
      "cell_type": "markdown",
      "source": [
        "c. `generate_interarrival`: Esta función genera tiempos aleatorios entre las demandas de inventario. Utiliza una distribución exponencial con una media de 1/5.\n",
        "\n",
        "d. `generate_demand`: Esta función genera demandas aleatorias de inventario. Utiliza una distribución uniforme para generar enteros entre 1 y 4.\n",
        "\n",
        "3. Definir variables de observación: Se definen dos listas, `obs_time` y `inventory_level`, para almacenar los puntos de tiempo observados y los niveles de inventario correspondientes.\n",
        "\n"
      ],
      "metadata": {
        "id": "zgBVx2EHCoDw"
      }
    },
    {
      "cell_type": "code",
      "source": [
        "def generate_interarrival():\n",
        "  return np.random.exponential(1./5)\n",
        "\n",
        "def generate_demand():\n",
        "  return np.random.randint(1, 5)\n",
        "\n",
        "obs_time = []\n",
        "inventory_level = []\n",
        "\n"
      ],
      "metadata": {
        "id": "LUX1ZwpCCngB"
      },
      "execution_count": 16,
      "outputs": []
    },
    {
      "cell_type": "markdown",
      "source": [
        "4. Definir el proceso de observación: La función `observe` se define para registrar periódicamente el tiempo actual y el nivel de inventario. Se ejecuta indefinidamente y espera un intervalo de tiempo fijo de 0.1 unidades entre cada observación.\n",
        "\n",
        "5. Establecer semilla aleatoria e inicializar el entorno SimPy: La semilla aleatoria se establece en 0 para garantizar la reproducibilidad, y se crea un entorno SimPy.\n",
        "\n",
        "6. Crear y ejecutar los procesos de simulación: Se crean dos procesos de simulación utilizando la función `env.process`. Un proceso representa la simulación principal del almacén (`warehouse_run`) y el otro proceso representa el proceso de observación (`observe`).\n",
        "\n",
        "7. La simulación se ejecuta llamando a `env.run(until=5.0)`, especificando que la simulación debe ejecutarse hasta el tiempo 5.0. Durante la simulación, los eventos y los procesos se programan y se ejecutan según la lógica definida.\n"
      ],
      "metadata": {
        "id": "4JNXKRK8DB7H"
      }
    },
    {
      "cell_type": "code",
      "source": [
        "def observe (env):\n",
        "  global inventory\n",
        "\n",
        "  while True:\n",
        "    obs_time.append(env.now)\n",
        "    inventory_level.append(inventory)\n",
        "    yield env.timeout(0.1)\n",
        "\n",
        "np.random.seed(0) #Genera números aleatorios iniciando en 0\n",
        "env=simpy.Environment() #crea el entorno simpy\n",
        "env.process(warehouse_run (env, 10, 30)) #el inicio de pedido es en 10 y el inventario inicial de 30\n",
        "env.process(observe (env))\n",
        "\n",
        "env.run(until=5.0) #peridos en que se ejecuta"
      ],
      "metadata": {
        "colab": {
          "base_uri": "https://localhost:8080/"
        },
        "id": "wuyigg4mC-N4",
        "outputId": "784038e3-2711-41c7-88bd-96b651dcac83"
      },
      "execution_count": 17,
      "outputs": [
        {
          "output_type": "stream",
          "name": "stdout",
          "text": [
            "0.16 sold 28\n",
            "0.53 sold 24\n",
            "0.69 sold 22\n",
            "0.88 sold 19\n",
            "1.00 sold 16\n",
            "1.01 sold 15\n",
            "1.11 sold 12\n",
            "1.44 sold 9\n",
            "1.44 placed order for 21\n",
            "1.61 sold 7\n",
            "1.97 sold 6\n",
            "1.99 sold 2\n",
            "2.08 sold 0 (out of stock)\n",
            "2.38 sold 0 (out of stock)\n",
            "2.79 sold 0 (out of stock)\n",
            "3.11 sold 0 (out of stock)\n",
            "3.26 sold 0 (out of stock)\n",
            "3.28 sold 0 (out of stock)\n",
            "3.44 received order, 21 in inventory\n",
            "3.46 sold 19\n",
            "4.04 sold 15\n",
            "4.06 sold 11\n",
            "4.12 sold 7\n",
            "4.12 placed order for 23\n",
            "4.39 sold 6\n",
            "4.56 sold 5\n",
            "4.63 sold 3\n",
            "4.82 sold 2\n",
            "4.92 sold 1\n"
          ]
        }
      ]
    },
    {
      "cell_type": "markdown",
      "source": [
        "Ahora se crea un gráfico que muestra el nivel de inventario a lo largo del tiempo durante la simulación.\n",
        "\n",
        "1. `import matplotlib.pyplot as plt`: Importa la biblioteca Matplotlib y la renombra como `plt` para facilitar su uso.\n",
        "\n",
        "2. `plt.figure()`: Crea una nueva figura de gráfico.\n",
        "\n",
        "3. `plt.step(obs_time, inventory_level, where='post')`: Genera un gráfico de pasos donde los puntos (tiempo de observación) se representan por los valores de nivel de inventario. El parámetro `obs_time` se refiere a la lista de tiempos de observación y `inventory_level` es la lista de niveles de inventario registrados en cada punto de tiempo. El argumento `where='post'` indica que los pasos deben dibujarse a partir del punto dado en el eje x.\n",
        "\n",
        "4. `plt.xlabel('Simulation time (days)')`: Etiqueta el eje x del gráfico como \"Tiempo de simulación (días)\".\n",
        "\n",
        "5. `plt.ylabel('Inventory level')`: Etiqueta el eje y del gráfico como \"Nivel de inventario\".\n",
        "\n",
        "Esta sección del código utiliza Matplotlib para visualizar los datos registrados durante la simulación. El gráfico resultante mostrará el nivel de inventario en función del tiempo, lo que permite analizar y comprender cómo cambia el inventario a lo largo del tiempo en el almacén simulado.\n",
        "En general, el código simula la gestión de inventario de un almacén mediante la generación de demandas y tiempos de llegada aleatorios. Realiza un seguimiento del nivel de inventario, el saldo y los eventos de pedido/envío. El proceso de observación registra el nivel de inventario a lo largo del tiempo con fines de análisis o visualización."
      ],
      "metadata": {
        "id": "l1i75_YgE11V"
      }
    },
    {
      "cell_type": "code",
      "source": [
        "import matplotlib.pyplot as plt\n",
        "\n",
        "plt.figure()\n",
        "plt.step(obs_time, inventory_level, where='post')\n",
        "plt.xlabel('Simulation time (days)')\n",
        "plt.ylabel('Inventory level')"
      ],
      "metadata": {
        "id": "l36FPfYtcN84",
        "outputId": "7cfe816e-1449-45fa-84dc-d9f7d9c29579",
        "colab": {
          "base_uri": "https://localhost:8080/",
          "height": 466
        }
      },
      "execution_count": 18,
      "outputs": [
        {
          "output_type": "execute_result",
          "data": {
            "text/plain": [
              "Text(0, 0.5, 'Inventory level')"
            ]
          },
          "metadata": {},
          "execution_count": 18
        },
        {
          "output_type": "display_data",
          "data": {
            "text/plain": [
              "<Figure size 640x480 with 1 Axes>"
            ],
            "image/png": "[encoded data removed]"
          },
          "metadata": {}
        }
      ]
    }
  ]
}